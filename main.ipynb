{
 "cells": [
  {
   "cell_type": "markdown",
   "metadata": {},
   "source": [
    "### INPUTS"
   ]
  },
  {
   "cell_type": "code",
   "execution_count": 1,
   "metadata": {},
   "outputs": [],
   "source": [
    "x = [2, 4, 6, 8, 10, 12]\n",
    "y = [42, 48.4, 51.3, 56.3, 58.6, 70]\n",
    "x_err = 0\n",
    "y_err = 5"
   ]
  },
  {
   "cell_type": "markdown",
   "metadata": {},
   "source": [
    "### CONFIGURE"
   ]
  },
  {
   "cell_type": "code",
   "execution_count": 2,
   "metadata": {},
   "outputs": [],
   "source": [
    "CONFIG = {\n",
    "    # Label\n",
    "    'title': '',\n",
    "    'x_label': 'x',\n",
    "    'xerr_label': '∆x',\n",
    "    'y_label': 'y',\n",
    "    'yerr_lable': '∆y',\n",
    "    'font': {'family': 'sans-serif',\n",
    "             'color': '#000000',\n",
    "             'weight': 'normal',\n",
    "             'size': 16,\n",
    "             },\n",
    "\n",
    "    # Axes\n",
    "    'ax_axis_color': '#000000',\n",
    "    'x_min': 0,\n",
    "    'x_max': (x[0] + x[-1]) * 1.05,\n",
    "    'y_min': 0,\n",
    "    'y_max': (y[0] + y[-1]) * 1.05,\n",
    "    'ax_background': '#ffffff',\n",
    "\n",
    "    # Graph\n",
    "    'dpi': 600,\n",
    "    'grid': True,\n",
    "    'grid_color': '#d0d0d0',\n",
    "    'grid_width': 1.5,\n",
    "\n",
    "    # Error bars\n",
    "    'ecolor': '#000000',\n",
    "    'elinewidth': 1.25,\n",
    "    'capsize': 6,\n",
    "    'capthick': 1.25,\n",
    "\n",
    "    # Points\n",
    "    'fmt': 'o',\n",
    "    'ms': 5,\n",
    "    'pcolor': '#16a4a3',\n",
    "\n",
    "    # Range of error lines (from point A->B)\n",
    "    'el_color': '#1f77b4',\n",
    "    'range1': [0, -1],  # Steeper line\n",
    "    'range2': [0, -1],\n",
    "\n",
    "    # Linear regression line\n",
    "    'l_width': 1.5,\n",
    "    'l_color': '#f8a823'\n",
    "}\n",
    "\n",
    "Inverted_Style = False\n",
    "if Inverted_Style:\n",
    "    CONFIG['ax_axis_color'] = '#ffffff'\n",
    "    CONFIG['ax_background'] = '#e6e6e6'\n",
    "    CONFIG['grid_color'] = '#ffffff'"
   ]
  },
  {
   "cell_type": "markdown",
   "metadata": {},
   "source": [
    "## Plot"
   ]
  },
  {
   "cell_type": "code",
   "execution_count": null,
   "metadata": {},
   "outputs": [],
   "source": [
    "import matplotlib.pyplot as plt\n",
    "import explot\n",
    "explot.main(x, x_err, y, y_err, CONFIG)\n",
    "plt.savefig(\"graph.png\")"
   ]
  },
  {
   "cell_type": "code",
   "execution_count": null,
   "metadata": {},
   "outputs": [],
   "source": []
  }
 ],
 "metadata": {
  "kernelspec": {
   "display_name": "Python 3",
   "language": "python",
   "name": "python3"
  },
  "language_info": {
   "codemirror_mode": {
    "name": "ipython",
    "version": 3
   },
   "file_extension": ".py",
   "mimetype": "text/x-python",
   "name": "python",
   "nbconvert_exporter": "python",
   "pygments_lexer": "ipython3",
   "version": "3.7.7"
  }
 },
 "nbformat": 4,
 "nbformat_minor": 4
}